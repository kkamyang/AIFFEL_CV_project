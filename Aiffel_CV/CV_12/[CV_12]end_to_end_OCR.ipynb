{
  "nbformat": 4,
  "nbformat_minor": 0,
  "metadata": {
    "colab": {
      "name": "[CV_12]end_to_end_OCR.ipynb",
      "provenance": [],
      "collapsed_sections": []
    },
    "kernelspec": {
      "name": "python3",
      "display_name": "Python 3"
    },
    "language_info": {
      "name": "python"
    },
    "accelerator": "GPU"
  },
  "cells": [
    {
      "cell_type": "markdown",
      "source": [
        "# [CV_12] 직접 만들어보는 OCR"
      ],
      "metadata": {
        "id": "JGRCUa-9Ep-E"
      }
    },
    {
      "cell_type": "code",
      "execution_count": null,
      "metadata": {
        "id": "Aa11pL9ehPML"
      },
      "outputs": [],
      "source": [
        "!cd /content/drive/MyDrive/Colab Notebooks/data\n",
        "!wget https://www.dropbox.com/sh/i39abvnefllx2si/AABX4yjNn2iLeKZh1OAwJUffa/data_lmdb_release.zip\n",
        "!wget https://www.dropbox.com/s/issusv9gteq4x6a/GD10.zip\n",
        "!unzip '*.zip'\n",
        "!mv data_lmdb_release/training/MJ ."
      ]
    },
    {
      "cell_type": "markdown",
      "source": [
        "## Dataset for OCR"
      ],
      "metadata": {
        "id": "HTwhD-WU7Bns"
      }
    },
    {
      "cell_type": "code",
      "source": [
        "import os\n",
        "\n",
        "path = '/content'\n",
        "os.chdir(path)\n",
        "\n",
        "print(path)"
      ],
      "metadata": {
        "colab": {
          "base_uri": "https://localhost:8080/"
        },
        "id": "XZ_-hfLhy25C",
        "outputId": "8c1e707c-43be-4154-fbe0-dd07bf5b4406"
      },
      "execution_count": 2,
      "outputs": [
        {
          "output_type": "stream",
          "name": "stdout",
          "text": [
            "/content\n"
          ]
        }
      ]
    },
    {
      "cell_type": "code",
      "source": [
        "import re\n",
        "import six\n",
        "import math\n",
        "import lmdb\n",
        "import os\n",
        "import numpy as np\n",
        "import tensorflow as tf\n",
        "\n",
        "from PIL import Image\n",
        "\n",
        "from tensorflow.keras import layers\n",
        "from tensorflow.keras.models import Model\n",
        "from tensorflow.keras.utils import Sequence\n",
        "from tensorflow.keras import backend as K\n",
        "from tensorflow.keras.models import load_model\n",
        "\n",
        "BATCH_SIZE = 128\n",
        "HOME_DIR = '/content'\n",
        "\n",
        "TRAIN_DATA_PATH = '/content/data/MJ/MJ_test'\n",
        "VALID_DATA_PATH = '/content/data/MJ/MJ_train'\n",
        "TEST_DATA_PATH = '/content/data/MJ/MJ_valid'\n",
        "\n",
        "print(TRAIN_DATA_PATH)"
      ],
      "metadata": {
        "colab": {
          "base_uri": "https://localhost:8080/"
        },
        "id": "8YbIZw9F67Vc",
        "outputId": "1c2d044d-f790-43ee-f767-52a1f784e2da"
      },
      "execution_count": 3,
      "outputs": [
        {
          "output_type": "stream",
          "name": "stdout",
          "text": [
            "/content/data/MJ/MJ_test\n"
          ]
        }
      ]
    },
    {
      "cell_type": "markdown",
      "source": [
        "## Recognition model"
      ],
      "metadata": {
        "id": "ORjRl-dS7GvY"
      }
    },
    {
      "cell_type": "code",
      "source": [
        "from IPython.display import display\n",
        "\n",
        "# env에 데이터를 불러오기\n",
        "# lmdb에서 데이터를 불러올 때 env라는 변수명을 사용하는게 일반적\n",
        "env = lmdb.open(TRAIN_DATA_PATH, \n",
        "                max_readers=32, \n",
        "                readonly=True, \n",
        "                lock=False, \n",
        "                readahead=False, \n",
        "                meminit=False)\n",
        "\n",
        "# 불러온 데이터를 txn(transaction)이라는 변수를 통해 열기\n",
        "# 이제 txn변수를 통해 직접 데이터에 접근 할 수 있음\n",
        "with env.begin(write=False) as txn:\n",
        "    for index in range(1, 5):\n",
        "        # index를 이용해서 라벨 키와 이미지 키를 만들면\n",
        "        # txn에서 라벨과 이미지를 읽어올 수 있음\n",
        "        label_key = 'label-%09d'.encode() % index\n",
        "        label = txn.get(label_key).decode('utf-8')\n",
        "        img_key = 'image-%09d'.encode() % index\n",
        "        imgbuf = txn.get(img_key)\n",
        "        buf = six.BytesIO()\n",
        "        buf.write(imgbuf)\n",
        "        buf.seek(0)\n",
        "\n",
        "        # 이미지는 버퍼를 통해 읽어오기 때문에 \n",
        "        # 버퍼에서 이미지로 변환하는 과정이 다시 필요\n",
        "        try:\n",
        "            img = Image.open(buf).convert('RGB')\n",
        "\n",
        "        except IOError:\n",
        "            img = Image.new('RGB', (100, 32))\n",
        "            label = '-'\n",
        "\n",
        "        # 원본 이미지 크기를 출력\n",
        "        width, height = img.size\n",
        "        print('original image width:{}, height:{}'.format(width, height))\n",
        "        \n",
        "        # 이미지 비율을 유지하면서 높이를 32로 바꿀 예정\n",
        "        # 하지만 너비를 100보다는 작게\n",
        "        target_width = min(int(width*32/height), 100)\n",
        "        target_img_size = (target_width,32)        \n",
        "        print('target_img_size:{}'.format(target_img_size))        \n",
        "        img = np.array(img.resize(target_img_size)).transpose(1,0,2)\n",
        "\n",
        "        # 이제 높이가 32로 일정한 이미지와 라벨을 함께 출력할 수 있음     \n",
        "        print('display img shape:{}'.format(img.shape))\n",
        "        print('label:{}'.format(label))\n",
        "        display(Image.fromarray(img.transpose(1,0,2).astype(np.uint8)))"
      ],
      "metadata": {
        "colab": {
          "base_uri": "https://localhost:8080/",
          "height": 422
        },
        "id": "cAWGUe_c67SU",
        "outputId": "deb4d3fe-5723-4a6a-e900-d413beeeb088"
      },
      "execution_count": 4,
      "outputs": [
        {
          "output_type": "stream",
          "name": "stdout",
          "text": [
            "original image width:130, height:31\n",
            "target_img_size:(100, 32)\n",
            "display img shape:(100, 32, 3)\n",
            "label:slinking\n"
          ]
        },
        {
          "output_type": "display_data",
          "data": {
            "text/plain": [
              "<PIL.Image.Image image mode=RGB size=100x32 at 0x7F5EA36BEE90>"
            ],
            "image/png": "[encoded data removed]"
          },
          "metadata": {}
        },
        {
          "output_type": "stream",
          "name": "stdout",
          "text": [
            "original image width:67, height:31\n",
            "target_img_size:(69, 32)\n",
            "display img shape:(69, 32, 3)\n",
            "label:REMODELERS\n"
          ]
        },
        {
          "output_type": "display_data",
          "data": {
            "text/plain": [
              "<PIL.Image.Image image mode=RGB size=69x32 at 0x7F5EA36CF3D0>"
            ],
            "image/png": "[encoded data removed]"
          },
          "metadata": {}
        },
        {
          "output_type": "stream",
          "name": "stdout",
          "text": [
            "original image width:169, height:31\n",
            "target_img_size:(100, 32)\n",
            "display img shape:(100, 32, 3)\n",
            "label:Chronographs\n"
          ]
        },
        {
          "output_type": "display_data",
          "data": {
            "text/plain": [
              "<PIL.Image.Image image mode=RGB size=100x32 at 0x7F5EA36CF590>"
            ],
            "image/png": "[encoded data removed]"
          },
          "metadata": {}
        },
        {
          "output_type": "stream",
          "name": "stdout",
          "text": [
            "original image width:110, height:31\n",
            "target_img_size:(100, 32)\n",
            "display img shape:(100, 32, 3)\n",
            "label:Impeaching\n"
          ]
        },
        {
          "output_type": "display_data",
          "data": {
            "text/plain": [
              "<PIL.Image.Image image mode=RGB size=100x32 at 0x7F5EA36CF110>"
            ],
            "image/png": "[encoded data removed]"
          },
          "metadata": {}
        }
      ]
    },
    {
      "cell_type": "code",
      "source": [
        "class MJDatasetSequence(Sequence):\n",
        "    # 객체를 초기화 할 때 lmdb를 열어 env에 준비\n",
        "    # 또, lmdb에 있는 데이터 수를 미리 파악\n",
        "    def __init__(self, \n",
        "                 dataset_path,\n",
        "                 label_converter,\n",
        "                 batch_size=1,\n",
        "                 img_size=(100,32),\n",
        "                 max_text_len=22,\n",
        "                 is_train=False,\n",
        "                 character='') :\n",
        "        \n",
        "        self.label_converter = label_converter\n",
        "        self.batch_size = batch_size\n",
        "        self.img_size = img_size\n",
        "        self.max_text_len = max_text_len\n",
        "        self.character = character\n",
        "        self.is_train = is_train\n",
        "        self.divide_length = 100\n",
        "\n",
        "        self.env = lmdb.open(dataset_path, max_readers=32, readonly=True, lock=False, readahead=False, meminit=False)\n",
        "        with self.env.begin(write=False) as txn:\n",
        "            self.num_samples = int(txn.get('num-samples'.encode()))\n",
        "            self.index_list = [index + 1 for index in range(self.num_samples)]\n",
        "        \n",
        "\n",
        "    def __len__(self):\n",
        "        return math.ceil(self.num_samples/self.batch_size/self.divide_length)\n",
        "    \n",
        "    # index에 해당하는 image와 label을 읽어\u001f\n",
        "    # 위에서 사용한 코드와 매우 유사\n",
        "    # label을 조금 더 다듬는 것이 약간 다름\n",
        "    def _get_img_label(self, index):\n",
        "        with self.env.begin(write=False) as txn:\n",
        "            label_key = 'label-%09d'.encode() % index\n",
        "            label = txn.get(label_key).decode('utf-8')\n",
        "            img_key = 'image-%09d'.encode() % index\n",
        "            imgbuf = txn.get(img_key)\n",
        "\n",
        "            buf = six.BytesIO()\n",
        "            buf.write(imgbuf)\n",
        "            buf.seek(0)\n",
        "            try:\n",
        "                img = Image.open(buf).convert('RGB')\n",
        "\n",
        "            except IOError:\n",
        "                img = Image.new('RGB', self.img_size)\n",
        "                label = '-'\n",
        "            width, height = img.size\n",
        "            \n",
        "            target_width = min(int(width*self.img_size[1]/height), self.img_size[0])\n",
        "            target_img_size = (target_width, self.img_size[1])\n",
        "            img = np.array(img.resize(target_img_size)).transpose(1,0,2)\n",
        "            # label을 약간 더 다듬기\n",
        "            label = label.upper()\n",
        "            out_of_char = f'[^{self.character}]'\n",
        "            label = re.sub(out_of_char, '', label)\n",
        "            label = label[:self.max_text_len]\n",
        "\n",
        "        return (img, label)\n",
        "    \n",
        "    # __getitem__은 약속되어 있는 메서드\n",
        "    # 이 부분을 작성하면 slice할 수 있음\n",
        "    # 자세히 알고 싶다면 아래 문서를 참고\n",
        "    # https://docs.python.org/3/reference/datamodel.html#object.__getitem__\n",
        "    # \n",
        "    # 1. idx에 해당하는 index_list만큼 데이터를 불러\n",
        "    # 2. image와 label을 불러오고 \n",
        "    # 3. 사용하기 좋은 inputs과 outputs형태로 반환\n",
        "    def __getitem__(self, idx):\n",
        "        # 1.\n",
        "        batch_indicies = self.index_list[\n",
        "            idx*self.batch_size:\n",
        "            (idx+1)*self.batch_size\n",
        "        ]\n",
        "        input_images = np.zeros([self.batch_size, *self.img_size, 3])\n",
        "        labels = np.zeros([self.batch_size, self.max_text_len], dtype='int64')\n",
        "\n",
        "        input_length = np.ones([self.batch_size], dtype='int64') * self.max_text_len\n",
        "        label_length = np.ones([self.batch_size], dtype='int64')\n",
        "\n",
        "        # 2.\n",
        "        for i, index in enumerate(batch_indicies):\n",
        "            img, label = self._get_img_label(index)\n",
        "            encoded_label = self.label_converter.encode(label)\n",
        "            # 인코딩 과정에서 '-'이 추가되면 max_text_len보다 길어질 수 있음\n",
        "            if len(encoded_label) > self.max_text_len:\n",
        "                continue\n",
        "            width = img.shape[0]\n",
        "            input_images[i,:width,:,:] = img\n",
        "            labels[i,0:len(encoded_label)] = encoded_label\n",
        "            label_length[i] = len(encoded_label)\n",
        "        \n",
        "        # 3.\n",
        "        inputs = {\n",
        "            'input_image': input_images,\n",
        "            'label': labels,\n",
        "            'input_length': input_length,\n",
        "            'label_length': label_length,\n",
        "        }\n",
        "        outputs = {'ctc': np.zeros([self.batch_size, 1])}\n",
        "\n",
        "        return inputs, outputs"
      ],
      "metadata": {
        "id": "ewcVaLws67Pq"
      },
      "execution_count": 5,
      "outputs": []
    },
    {
      "cell_type": "markdown",
      "source": [
        "## Encode"
      ],
      "metadata": {
        "id": "w9EpzDuU7VDh"
      }
    },
    {
      "cell_type": "code",
      "source": [
        "class LabelConverter(object):\n",
        "\n",
        "     def __init__(self, character):\n",
        "         self.character = \"-\" + character\n",
        "         self.label_map = dict()\n",
        "         for i, char in enumerate(self.character):\n",
        "             self.label_map[char] = i\n",
        "\n",
        "     def encode(self, text):\n",
        "         encoded_label = []\n",
        "         for i, char in enumerate(text):\n",
        "             if i > 0 and char == text[i - 1]:\n",
        "                 encoded_label.append(0)    # 같은 문자 사이에 공백 문자 label을 삽입\n",
        "             encoded_label.append(self.label_map[char])\n",
        "         return np.array(encoded_label)\n",
        "\n",
        "     def decode(self, encoded_label):\n",
        "         target_characters = list(self.character)\n",
        "         decoded_label = \"\"\n",
        "         for encode in encoded_label:\n",
        "             decoded_label += self.character[encode]\n",
        "         return decoded_label"
      ],
      "metadata": {
        "id": "feT2lXFV67NA"
      },
      "execution_count": 6,
      "outputs": []
    },
    {
      "cell_type": "code",
      "source": [
        "NUMBERS = \"0123456789\"\n",
        "ENG_CHAR_UPPER = \"ABCDEFGHIJKLMNOPQRSTUVWXYZ\"\n",
        "TARGET_CHARACTERS = ENG_CHAR_UPPER + NUMBERS\n",
        "print(f\"The total number of characters is {len(TARGET_CHARACTERS)}\")"
      ],
      "metadata": {
        "colab": {
          "base_uri": "https://localhost:8080/"
        },
        "id": "WD_4iRxx_jok",
        "outputId": "5b75e0bf-8474-4091-8f93-03752212e2d5"
      },
      "execution_count": 7,
      "outputs": [
        {
          "output_type": "stream",
          "name": "stdout",
          "text": [
            "The total number of characters is 36\n"
          ]
        }
      ]
    },
    {
      "cell_type": "code",
      "source": [
        "# test\n",
        "label_converter = LabelConverter(TARGET_CHARACTERS)\n",
        "\n",
        "encdoded_text = label_converter.encode('HELLO')\n",
        "print(\"Encdoded_text: \", encdoded_text)\n",
        "decoded_text = label_converter.decode(encdoded_text)\n",
        "print(\"Decoded_text: \", decoded_text)"
      ],
      "metadata": {
        "colab": {
          "base_uri": "https://localhost:8080/"
        },
        "id": "Bvwoq3V067J9",
        "outputId": "4d490080-22f8-4fd7-bc24-0b1c8783f8e6"
      },
      "execution_count": 8,
      "outputs": [
        {
          "output_type": "stream",
          "name": "stdout",
          "text": [
            "Encdoded_text:  [ 8  5 12  0 12 15]\n",
            "Decoded_text:  HEL-LO\n"
          ]
        }
      ]
    },
    {
      "cell_type": "markdown",
      "source": [
        "## Build CRNN model"
      ],
      "metadata": {
        "id": "JowYuftZ7fqm"
      }
    },
    {
      "cell_type": "code",
      "source": [
        "def ctc_lambda_func(args): # CTC loss를 계산하기 위한 Lambda 함수\n",
        "    labels, y_pred, label_length, input_length = args\n",
        "    y_pred = y_pred[:, 2:, :]\n",
        "    return K.ctc_batch_cost(labels, y_pred, input_length, label_length)"
      ],
      "metadata": {
        "id": "AbK4HuXy67HT"
      },
      "execution_count": 9,
      "outputs": []
    },
    {
      "cell_type": "code",
      "source": [
        "def build_crnn_model(input_shape=(100,32,3), characters=TARGET_CHARACTERS):\n",
        "    num_chars = len(characters)+2\n",
        "    image_input = layers.Input(shape=input_shape, dtype='float32', name='input_image')\n",
        "    \n",
        "    # Build CRNN model\n",
        "    conv = layers.Conv2D(64, (3, 3), activation='relu', padding='same', kernel_initializer='he_normal')(image_input)\n",
        "    conv = layers.MaxPooling2D(pool_size=(2, 2))(conv)\n",
        "    conv = layers.Conv2D(128, (3, 3), activation='relu', padding='same', kernel_initializer='he_normal')(conv)\n",
        "    conv = layers.MaxPooling2D(pool_size=(2, 2))(conv)\n",
        "    conv = layers.Conv2D(256, (3, 3), activation='relu', padding='same', kernel_initializer='he_normal')(conv)\n",
        "    conv = layers.Conv2D(256, (3, 3), activation='relu', padding='same', kernel_initializer='he_normal')(conv)\n",
        "    conv = layers.MaxPooling2D(pool_size=(1, 2))(conv)\n",
        "    conv = layers.Conv2D(512, (3, 3), activation='relu', padding='same', kernel_initializer='he_normal')(conv)\n",
        "    conv = layers.BatchNormalization()(conv)\n",
        "    conv = layers.Conv2D(512, (3, 3), activation='relu', padding='same', kernel_initializer='he_normal')(conv)\n",
        "    conv = layers.BatchNormalization()(conv)\n",
        "    conv = layers.MaxPooling2D(pool_size=(1, 2))(conv)     \n",
        "    feature = layers.Conv2D(512, (2, 2), activation='relu', kernel_initializer='he_normal')(conv)\n",
        "    sequnce = layers.Reshape(target_shape=(24, 512))(feature)\n",
        "    sequnce = layers.Dense(64, activation='relu')(sequnce)\n",
        "    sequnce = layers.Bidirectional(layers.LSTM(256, return_sequences=True))(sequnce)\n",
        "    sequnce = layers.Bidirectional(layers.LSTM(256, return_sequences=True))(sequnce)\n",
        "    y_pred = layers.Dense(num_chars, activation='softmax', name='output')(sequnce)\n",
        "\n",
        "    labels = layers.Input(shape=[22], dtype='int64', name='label')\n",
        "    input_length = layers.Input(shape=[1], dtype='int64', name='input_length')\n",
        "    label_length = layers.Input(shape=[1], dtype='int64', name='label_length')\n",
        "    loss_out = layers.Lambda(ctc_lambda_func, output_shape=(1,), name=\"ctc\")(\n",
        "        [labels, y_pred, label_length, input_length]\n",
        "    )\n",
        "    model_input = [image_input, labels, input_length, label_length]\n",
        "    model = Model(\n",
        "        inputs=model_input,\n",
        "        outputs=loss_out\n",
        "    )\n",
        "    return model"
      ],
      "metadata": {
        "id": "PLJH5h2H67Ek"
      },
      "execution_count": 10,
      "outputs": []
    },
    {
      "cell_type": "markdown",
      "source": [
        "## Train & Inference"
      ],
      "metadata": {
        "id": "5sb727Ni7nL3"
      }
    },
    {
      "cell_type": "code",
      "source": [
        "# 데이터셋과 모델을 준비\n",
        "train_set = MJDatasetSequence(TRAIN_DATA_PATH, label_converter, batch_size=BATCH_SIZE, character=TARGET_CHARACTERS, is_train=True)\n",
        "val_set = MJDatasetSequence(VALID_DATA_PATH, label_converter, batch_size=BATCH_SIZE, character=TARGET_CHARACTERS)\n",
        "model = build_crnn_model()\n",
        "\n",
        "# 모델 컴파일\n",
        "optimizer = tf.keras.optimizers.Adadelta(lr=0.1, clipnorm=5)\n",
        "model.compile(loss={'ctc': lambda y_true, y_pred: y_pred}, optimizer=optimizer)"
      ],
      "metadata": {
        "colab": {
          "base_uri": "https://localhost:8080/"
        },
        "id": "zjI_aBX77orf",
        "outputId": "6cdf2c7f-e912-49e0-95f8-2997233da4f8"
      },
      "execution_count": 11,
      "outputs": [
        {
          "output_type": "stream",
          "name": "stderr",
          "text": [
            "/usr/local/lib/python3.7/dist-packages/keras/optimizer_v2/adadelta.py:74: UserWarning: The `lr` argument is deprecated, use `learning_rate` instead.\n",
            "  super(Adadelta, self).__init__(name, **kwargs)\n"
          ]
        }
      ]
    },
    {
      "cell_type": "code",
      "source": [
        "# 훈련이 빨리 끝날 수 있도록 ModelCheckPoint와 EarlyStopping을 사용\n",
        "checkpoint_path = '/content/model_checkpoint.hdf5'\n",
        "ckp = tf.keras.callbacks.ModelCheckpoint(\n",
        "    checkpoint_path, monitor='val_loss',\n",
        "    verbose=1, save_best_only=True, save_weights_only=True\n",
        ")\n",
        "earlystop = tf.keras.callbacks.EarlyStopping(\n",
        "    monitor='val_loss', min_delta=0, patience=4, verbose=0, mode='min'\n",
        ")\n",
        "model.fit(train_set,\n",
        "          steps_per_epoch=len(train_set),\n",
        "          epochs=10,\n",
        "          validation_data=val_set,\n",
        "          validation_steps=len(val_set),\n",
        "          callbacks=[ckp, earlystop])"
      ],
      "metadata": {
        "colab": {
          "base_uri": "https://localhost:8080/",
          "height": 713
        },
        "id": "Bk2KZSjd7on9",
        "outputId": "de4bfed6-2a81-4ba5-b681-2aa7c0503814"
      },
      "execution_count": 13,
      "outputs": [
        {
          "output_type": "stream",
          "name": "stdout",
          "text": [
            "Epoch 1/10\n",
            "70/70 [==============================] - ETA: 0s - loss: 26.1021\n",
            "Epoch 1: val_loss improved from inf to 26.03292, saving model to /content/model_checkpoint.hdf5\n",
            "70/70 [==============================] - 77s 1s/step - loss: 26.1021 - val_loss: 26.0329\n",
            "Epoch 2/10\n",
            "70/70 [==============================] - ETA: 0s - loss: 25.7340\n",
            "Epoch 2: val_loss did not improve from 26.03292\n",
            "70/70 [==============================] - 77s 1s/step - loss: 25.7340 - val_loss: 27.8967\n",
            "Epoch 3/10\n",
            "70/70 [==============================] - ETA: 0s - loss: 25.3667\n",
            "Epoch 3: val_loss did not improve from 26.03292\n",
            "70/70 [==============================] - 76s 1s/step - loss: 25.3667 - val_loss: 26.0417\n",
            "Epoch 4/10\n",
            "70/70 [==============================] - ETA: 0s - loss: 24.9384\n",
            "Epoch 4: val_loss did not improve from 26.03292\n",
            "70/70 [==============================] - 76s 1s/step - loss: 24.9384 - val_loss: 27.6901\n",
            "Epoch 5/10\n",
            "70/70 [==============================] - ETA: 0s - loss: 24.4529"
          ]
        },
        {
          "output_type": "error",
          "ename": "KeyboardInterrupt",
          "evalue": "ignored",
          "traceback": [
            "\u001b[0;31m---------------------------------------------------------------------------\u001b[0m",
            "\u001b[0;31mKeyboardInterrupt\u001b[0m                         Traceback (most recent call last)",
            "\u001b[0;32m<ipython-input-13-d481f4f0d937>\u001b[0m in \u001b[0;36m<module>\u001b[0;34m()\u001b[0m\n\u001b[1;32m     13\u001b[0m           \u001b[0mvalidation_data\u001b[0m\u001b[0;34m=\u001b[0m\u001b[0mval_set\u001b[0m\u001b[0;34m,\u001b[0m\u001b[0;34m\u001b[0m\u001b[0;34m\u001b[0m\u001b[0m\n\u001b[1;32m     14\u001b[0m           \u001b[0mvalidation_steps\u001b[0m\u001b[0;34m=\u001b[0m\u001b[0mlen\u001b[0m\u001b[0;34m(\u001b[0m\u001b[0mval_set\u001b[0m\u001b[0;34m)\u001b[0m\u001b[0;34m,\u001b[0m\u001b[0;34m\u001b[0m\u001b[0;34m\u001b[0m\u001b[0m\n\u001b[0;32m---> 15\u001b[0;31m           callbacks=[ckp, earlystop])\n\u001b[0m",
            "\u001b[0;32m/usr/local/lib/python3.7/dist-packages/keras/utils/traceback_utils.py\u001b[0m in \u001b[0;36merror_handler\u001b[0;34m(*args, **kwargs)\u001b[0m\n\u001b[1;32m     62\u001b[0m     \u001b[0mfiltered_tb\u001b[0m \u001b[0;34m=\u001b[0m \u001b[0;32mNone\u001b[0m\u001b[0;34m\u001b[0m\u001b[0;34m\u001b[0m\u001b[0m\n\u001b[1;32m     63\u001b[0m     \u001b[0;32mtry\u001b[0m\u001b[0;34m:\u001b[0m\u001b[0;34m\u001b[0m\u001b[0;34m\u001b[0m\u001b[0m\n\u001b[0;32m---> 64\u001b[0;31m       \u001b[0;32mreturn\u001b[0m \u001b[0mfn\u001b[0m\u001b[0;34m(\u001b[0m\u001b[0;34m*\u001b[0m\u001b[0margs\u001b[0m\u001b[0;34m,\u001b[0m \u001b[0;34m**\u001b[0m\u001b[0mkwargs\u001b[0m\u001b[0;34m)\u001b[0m\u001b[0;34m\u001b[0m\u001b[0;34m\u001b[0m\u001b[0m\n\u001b[0m\u001b[1;32m     65\u001b[0m     \u001b[0;32mexcept\u001b[0m \u001b[0mException\u001b[0m \u001b[0;32mas\u001b[0m \u001b[0me\u001b[0m\u001b[0;34m:\u001b[0m  \u001b[0;31m# pylint: disable=broad-except\u001b[0m\u001b[0;34m\u001b[0m\u001b[0;34m\u001b[0m\u001b[0m\n\u001b[1;32m     66\u001b[0m       \u001b[0mfiltered_tb\u001b[0m \u001b[0;34m=\u001b[0m \u001b[0m_process_traceback_frames\u001b[0m\u001b[0;34m(\u001b[0m\u001b[0me\u001b[0m\u001b[0;34m.\u001b[0m\u001b[0m__traceback__\u001b[0m\u001b[0;34m)\u001b[0m\u001b[0;34m\u001b[0m\u001b[0;34m\u001b[0m\u001b[0m\n",
            "\u001b[0;32m/usr/local/lib/python3.7/dist-packages/keras/engine/training.py\u001b[0m in \u001b[0;36mfit\u001b[0;34m(self, x, y, batch_size, epochs, verbose, callbacks, validation_split, validation_data, shuffle, class_weight, sample_weight, initial_epoch, steps_per_epoch, validation_steps, validation_batch_size, validation_freq, max_queue_size, workers, use_multiprocessing)\u001b[0m\n\u001b[1;32m   1429\u001b[0m               \u001b[0muse_multiprocessing\u001b[0m\u001b[0;34m=\u001b[0m\u001b[0muse_multiprocessing\u001b[0m\u001b[0;34m,\u001b[0m\u001b[0;34m\u001b[0m\u001b[0;34m\u001b[0m\u001b[0m\n\u001b[1;32m   1430\u001b[0m               \u001b[0mreturn_dict\u001b[0m\u001b[0;34m=\u001b[0m\u001b[0;32mTrue\u001b[0m\u001b[0;34m,\u001b[0m\u001b[0;34m\u001b[0m\u001b[0;34m\u001b[0m\u001b[0m\n\u001b[0;32m-> 1431\u001b[0;31m               _use_cached_eval_dataset=True)\n\u001b[0m\u001b[1;32m   1432\u001b[0m           \u001b[0mval_logs\u001b[0m \u001b[0;34m=\u001b[0m \u001b[0;34m{\u001b[0m\u001b[0;34m'val_'\u001b[0m \u001b[0;34m+\u001b[0m \u001b[0mname\u001b[0m\u001b[0;34m:\u001b[0m \u001b[0mval\u001b[0m \u001b[0;32mfor\u001b[0m \u001b[0mname\u001b[0m\u001b[0;34m,\u001b[0m \u001b[0mval\u001b[0m \u001b[0;32min\u001b[0m \u001b[0mval_logs\u001b[0m\u001b[0;34m.\u001b[0m\u001b[0mitems\u001b[0m\u001b[0;34m(\u001b[0m\u001b[0;34m)\u001b[0m\u001b[0;34m}\u001b[0m\u001b[0;34m\u001b[0m\u001b[0;34m\u001b[0m\u001b[0m\n\u001b[1;32m   1433\u001b[0m           \u001b[0mepoch_logs\u001b[0m\u001b[0;34m.\u001b[0m\u001b[0mupdate\u001b[0m\u001b[0;34m(\u001b[0m\u001b[0mval_logs\u001b[0m\u001b[0;34m)\u001b[0m\u001b[0;34m\u001b[0m\u001b[0;34m\u001b[0m\u001b[0m\n",
            "\u001b[0;32m/usr/local/lib/python3.7/dist-packages/keras/utils/traceback_utils.py\u001b[0m in \u001b[0;36merror_handler\u001b[0;34m(*args, **kwargs)\u001b[0m\n\u001b[1;32m     62\u001b[0m     \u001b[0mfiltered_tb\u001b[0m \u001b[0;34m=\u001b[0m \u001b[0;32mNone\u001b[0m\u001b[0;34m\u001b[0m\u001b[0;34m\u001b[0m\u001b[0m\n\u001b[1;32m     63\u001b[0m     \u001b[0;32mtry\u001b[0m\u001b[0;34m:\u001b[0m\u001b[0;34m\u001b[0m\u001b[0;34m\u001b[0m\u001b[0m\n\u001b[0;32m---> 64\u001b[0;31m       \u001b[0;32mreturn\u001b[0m \u001b[0mfn\u001b[0m\u001b[0;34m(\u001b[0m\u001b[0;34m*\u001b[0m\u001b[0margs\u001b[0m\u001b[0;34m,\u001b[0m \u001b[0;34m**\u001b[0m\u001b[0mkwargs\u001b[0m\u001b[0;34m)\u001b[0m\u001b[0;34m\u001b[0m\u001b[0;34m\u001b[0m\u001b[0m\n\u001b[0m\u001b[1;32m     65\u001b[0m     \u001b[0;32mexcept\u001b[0m \u001b[0mException\u001b[0m \u001b[0;32mas\u001b[0m \u001b[0me\u001b[0m\u001b[0;34m:\u001b[0m  \u001b[0;31m# pylint: disable=broad-except\u001b[0m\u001b[0;34m\u001b[0m\u001b[0;34m\u001b[0m\u001b[0m\n\u001b[1;32m     66\u001b[0m       \u001b[0mfiltered_tb\u001b[0m \u001b[0;34m=\u001b[0m \u001b[0m_process_traceback_frames\u001b[0m\u001b[0;34m(\u001b[0m\u001b[0me\u001b[0m\u001b[0;34m.\u001b[0m\u001b[0m__traceback__\u001b[0m\u001b[0;34m)\u001b[0m\u001b[0;34m\u001b[0m\u001b[0;34m\u001b[0m\u001b[0m\n",
            "\u001b[0;32m/usr/local/lib/python3.7/dist-packages/keras/engine/training.py\u001b[0m in \u001b[0;36mevaluate\u001b[0;34m(self, x, y, batch_size, verbose, sample_weight, steps, callbacks, max_queue_size, workers, use_multiprocessing, return_dict, **kwargs)\u001b[0m\n\u001b[1;32m   1714\u001b[0m             \u001b[0;32mwith\u001b[0m \u001b[0mtf\u001b[0m\u001b[0;34m.\u001b[0m\u001b[0mprofiler\u001b[0m\u001b[0;34m.\u001b[0m\u001b[0mexperimental\u001b[0m\u001b[0;34m.\u001b[0m\u001b[0mTrace\u001b[0m\u001b[0;34m(\u001b[0m\u001b[0;34m'test'\u001b[0m\u001b[0;34m,\u001b[0m \u001b[0mstep_num\u001b[0m\u001b[0;34m=\u001b[0m\u001b[0mstep\u001b[0m\u001b[0;34m,\u001b[0m \u001b[0m_r\u001b[0m\u001b[0;34m=\u001b[0m\u001b[0;36m1\u001b[0m\u001b[0;34m)\u001b[0m\u001b[0;34m:\u001b[0m\u001b[0;34m\u001b[0m\u001b[0;34m\u001b[0m\u001b[0m\n\u001b[1;32m   1715\u001b[0m               \u001b[0mcallbacks\u001b[0m\u001b[0;34m.\u001b[0m\u001b[0mon_test_batch_begin\u001b[0m\u001b[0;34m(\u001b[0m\u001b[0mstep\u001b[0m\u001b[0;34m)\u001b[0m\u001b[0;34m\u001b[0m\u001b[0;34m\u001b[0m\u001b[0m\n\u001b[0;32m-> 1716\u001b[0;31m               \u001b[0mtmp_logs\u001b[0m \u001b[0;34m=\u001b[0m \u001b[0mself\u001b[0m\u001b[0;34m.\u001b[0m\u001b[0mtest_function\u001b[0m\u001b[0;34m(\u001b[0m\u001b[0miterator\u001b[0m\u001b[0;34m)\u001b[0m\u001b[0;34m\u001b[0m\u001b[0;34m\u001b[0m\u001b[0m\n\u001b[0m\u001b[1;32m   1717\u001b[0m               \u001b[0;32mif\u001b[0m \u001b[0mdata_handler\u001b[0m\u001b[0;34m.\u001b[0m\u001b[0mshould_sync\u001b[0m\u001b[0;34m:\u001b[0m\u001b[0;34m\u001b[0m\u001b[0;34m\u001b[0m\u001b[0m\n\u001b[1;32m   1718\u001b[0m                 \u001b[0mcontext\u001b[0m\u001b[0;34m.\u001b[0m\u001b[0masync_wait\u001b[0m\u001b[0;34m(\u001b[0m\u001b[0;34m)\u001b[0m\u001b[0;34m\u001b[0m\u001b[0;34m\u001b[0m\u001b[0m\n",
            "\u001b[0;32m/usr/local/lib/python3.7/dist-packages/tensorflow/python/util/traceback_utils.py\u001b[0m in \u001b[0;36merror_handler\u001b[0;34m(*args, **kwargs)\u001b[0m\n\u001b[1;32m    148\u001b[0m     \u001b[0mfiltered_tb\u001b[0m \u001b[0;34m=\u001b[0m \u001b[0;32mNone\u001b[0m\u001b[0;34m\u001b[0m\u001b[0;34m\u001b[0m\u001b[0m\n\u001b[1;32m    149\u001b[0m     \u001b[0;32mtry\u001b[0m\u001b[0;34m:\u001b[0m\u001b[0;34m\u001b[0m\u001b[0;34m\u001b[0m\u001b[0m\n\u001b[0;32m--> 150\u001b[0;31m       \u001b[0;32mreturn\u001b[0m \u001b[0mfn\u001b[0m\u001b[0;34m(\u001b[0m\u001b[0;34m*\u001b[0m\u001b[0margs\u001b[0m\u001b[0;34m,\u001b[0m \u001b[0;34m**\u001b[0m\u001b[0mkwargs\u001b[0m\u001b[0;34m)\u001b[0m\u001b[0;34m\u001b[0m\u001b[0;34m\u001b[0m\u001b[0m\n\u001b[0m\u001b[1;32m    151\u001b[0m     \u001b[0;32mexcept\u001b[0m \u001b[0mException\u001b[0m \u001b[0;32mas\u001b[0m \u001b[0me\u001b[0m\u001b[0;34m:\u001b[0m\u001b[0;34m\u001b[0m\u001b[0;34m\u001b[0m\u001b[0m\n\u001b[1;32m    152\u001b[0m       \u001b[0mfiltered_tb\u001b[0m \u001b[0;34m=\u001b[0m \u001b[0m_process_traceback_frames\u001b[0m\u001b[0;34m(\u001b[0m\u001b[0me\u001b[0m\u001b[0;34m.\u001b[0m\u001b[0m__traceback__\u001b[0m\u001b[0;34m)\u001b[0m\u001b[0;34m\u001b[0m\u001b[0;34m\u001b[0m\u001b[0m\n",
            "\u001b[0;32m/usr/local/lib/python3.7/dist-packages/tensorflow/python/eager/def_function.py\u001b[0m in \u001b[0;36m__call__\u001b[0;34m(self, *args, **kwds)\u001b[0m\n\u001b[1;32m    913\u001b[0m \u001b[0;34m\u001b[0m\u001b[0m\n\u001b[1;32m    914\u001b[0m       \u001b[0;32mwith\u001b[0m \u001b[0mOptionalXlaContext\u001b[0m\u001b[0;34m(\u001b[0m\u001b[0mself\u001b[0m\u001b[0;34m.\u001b[0m\u001b[0m_jit_compile\u001b[0m\u001b[0;34m)\u001b[0m\u001b[0;34m:\u001b[0m\u001b[0;34m\u001b[0m\u001b[0;34m\u001b[0m\u001b[0m\n\u001b[0;32m--> 915\u001b[0;31m         \u001b[0mresult\u001b[0m \u001b[0;34m=\u001b[0m \u001b[0mself\u001b[0m\u001b[0;34m.\u001b[0m\u001b[0m_call\u001b[0m\u001b[0;34m(\u001b[0m\u001b[0;34m*\u001b[0m\u001b[0margs\u001b[0m\u001b[0;34m,\u001b[0m \u001b[0;34m**\u001b[0m\u001b[0mkwds\u001b[0m\u001b[0;34m)\u001b[0m\u001b[0;34m\u001b[0m\u001b[0;34m\u001b[0m\u001b[0m\n\u001b[0m\u001b[1;32m    916\u001b[0m \u001b[0;34m\u001b[0m\u001b[0m\n\u001b[1;32m    917\u001b[0m       \u001b[0mnew_tracing_count\u001b[0m \u001b[0;34m=\u001b[0m \u001b[0mself\u001b[0m\u001b[0;34m.\u001b[0m\u001b[0mexperimental_get_tracing_count\u001b[0m\u001b[0;34m(\u001b[0m\u001b[0;34m)\u001b[0m\u001b[0;34m\u001b[0m\u001b[0;34m\u001b[0m\u001b[0m\n",
            "\u001b[0;32m/usr/local/lib/python3.7/dist-packages/tensorflow/python/eager/def_function.py\u001b[0m in \u001b[0;36m_call\u001b[0;34m(self, *args, **kwds)\u001b[0m\n\u001b[1;32m    952\u001b[0m       \u001b[0;31m# In this case we have not created variables on the first call. So we can\u001b[0m\u001b[0;34m\u001b[0m\u001b[0;34m\u001b[0m\u001b[0;34m\u001b[0m\u001b[0m\n\u001b[1;32m    953\u001b[0m       \u001b[0;31m# run the first trace but we should fail if variables are created.\u001b[0m\u001b[0;34m\u001b[0m\u001b[0;34m\u001b[0m\u001b[0;34m\u001b[0m\u001b[0m\n\u001b[0;32m--> 954\u001b[0;31m       \u001b[0mresults\u001b[0m \u001b[0;34m=\u001b[0m \u001b[0mself\u001b[0m\u001b[0;34m.\u001b[0m\u001b[0m_stateful_fn\u001b[0m\u001b[0;34m(\u001b[0m\u001b[0;34m*\u001b[0m\u001b[0margs\u001b[0m\u001b[0;34m,\u001b[0m \u001b[0;34m**\u001b[0m\u001b[0mkwds\u001b[0m\u001b[0;34m)\u001b[0m\u001b[0;34m\u001b[0m\u001b[0;34m\u001b[0m\u001b[0m\n\u001b[0m\u001b[1;32m    955\u001b[0m       \u001b[0;32mif\u001b[0m \u001b[0mself\u001b[0m\u001b[0;34m.\u001b[0m\u001b[0m_created_variables\u001b[0m \u001b[0;32mand\u001b[0m \u001b[0;32mnot\u001b[0m \u001b[0mALLOW_DYNAMIC_VARIABLE_CREATION\u001b[0m\u001b[0;34m:\u001b[0m\u001b[0;34m\u001b[0m\u001b[0;34m\u001b[0m\u001b[0m\n\u001b[1;32m    956\u001b[0m         raise ValueError(\"Creating variables on a non-first call to a function\"\n",
            "\u001b[0;32m/usr/local/lib/python3.7/dist-packages/tensorflow/python/eager/function.py\u001b[0m in \u001b[0;36m__call__\u001b[0;34m(self, *args, **kwargs)\u001b[0m\n\u001b[1;32m   2955\u001b[0m        filtered_flat_args) = self._maybe_define_function(args, kwargs)\n\u001b[1;32m   2956\u001b[0m     return graph_function._call_flat(\n\u001b[0;32m-> 2957\u001b[0;31m         filtered_flat_args, captured_inputs=graph_function.captured_inputs)  # pylint: disable=protected-access\n\u001b[0m\u001b[1;32m   2958\u001b[0m \u001b[0;34m\u001b[0m\u001b[0m\n\u001b[1;32m   2959\u001b[0m   \u001b[0;34m@\u001b[0m\u001b[0mproperty\u001b[0m\u001b[0;34m\u001b[0m\u001b[0;34m\u001b[0m\u001b[0m\n",
            "\u001b[0;32m/usr/local/lib/python3.7/dist-packages/tensorflow/python/eager/function.py\u001b[0m in \u001b[0;36m_call_flat\u001b[0;34m(self, args, captured_inputs, cancellation_manager)\u001b[0m\n\u001b[1;32m   1852\u001b[0m       \u001b[0;31m# No tape is watching; skip to running the function.\u001b[0m\u001b[0;34m\u001b[0m\u001b[0;34m\u001b[0m\u001b[0;34m\u001b[0m\u001b[0m\n\u001b[1;32m   1853\u001b[0m       return self._build_call_outputs(self._inference_function.call(\n\u001b[0;32m-> 1854\u001b[0;31m           ctx, args, cancellation_manager=cancellation_manager))\n\u001b[0m\u001b[1;32m   1855\u001b[0m     forward_backward = self._select_forward_and_backward_functions(\n\u001b[1;32m   1856\u001b[0m         \u001b[0margs\u001b[0m\u001b[0;34m,\u001b[0m\u001b[0;34m\u001b[0m\u001b[0;34m\u001b[0m\u001b[0m\n",
            "\u001b[0;32m/usr/local/lib/python3.7/dist-packages/tensorflow/python/eager/function.py\u001b[0m in \u001b[0;36mcall\u001b[0;34m(self, ctx, args, cancellation_manager)\u001b[0m\n\u001b[1;32m    502\u001b[0m               \u001b[0minputs\u001b[0m\u001b[0;34m=\u001b[0m\u001b[0margs\u001b[0m\u001b[0;34m,\u001b[0m\u001b[0;34m\u001b[0m\u001b[0;34m\u001b[0m\u001b[0m\n\u001b[1;32m    503\u001b[0m               \u001b[0mattrs\u001b[0m\u001b[0;34m=\u001b[0m\u001b[0mattrs\u001b[0m\u001b[0;34m,\u001b[0m\u001b[0;34m\u001b[0m\u001b[0;34m\u001b[0m\u001b[0m\n\u001b[0;32m--> 504\u001b[0;31m               ctx=ctx)\n\u001b[0m\u001b[1;32m    505\u001b[0m         \u001b[0;32melse\u001b[0m\u001b[0;34m:\u001b[0m\u001b[0;34m\u001b[0m\u001b[0;34m\u001b[0m\u001b[0m\n\u001b[1;32m    506\u001b[0m           outputs = execute.execute_with_cancellation(\n",
            "\u001b[0;32m/usr/local/lib/python3.7/dist-packages/tensorflow/python/eager/execute.py\u001b[0m in \u001b[0;36mquick_execute\u001b[0;34m(op_name, num_outputs, inputs, attrs, ctx, name)\u001b[0m\n\u001b[1;32m     53\u001b[0m     \u001b[0mctx\u001b[0m\u001b[0;34m.\u001b[0m\u001b[0mensure_initialized\u001b[0m\u001b[0;34m(\u001b[0m\u001b[0;34m)\u001b[0m\u001b[0;34m\u001b[0m\u001b[0;34m\u001b[0m\u001b[0m\n\u001b[1;32m     54\u001b[0m     tensors = pywrap_tfe.TFE_Py_Execute(ctx._handle, device_name, op_name,\n\u001b[0;32m---> 55\u001b[0;31m                                         inputs, attrs, num_outputs)\n\u001b[0m\u001b[1;32m     56\u001b[0m   \u001b[0;32mexcept\u001b[0m \u001b[0mcore\u001b[0m\u001b[0;34m.\u001b[0m\u001b[0m_NotOkStatusException\u001b[0m \u001b[0;32mas\u001b[0m \u001b[0me\u001b[0m\u001b[0;34m:\u001b[0m\u001b[0;34m\u001b[0m\u001b[0;34m\u001b[0m\u001b[0m\n\u001b[1;32m     57\u001b[0m     \u001b[0;32mif\u001b[0m \u001b[0mname\u001b[0m \u001b[0;32mis\u001b[0m \u001b[0;32mnot\u001b[0m \u001b[0;32mNone\u001b[0m\u001b[0;34m:\u001b[0m\u001b[0;34m\u001b[0m\u001b[0;34m\u001b[0m\u001b[0m\n",
            "\u001b[0;31mKeyboardInterrupt\u001b[0m: "
          ]
        }
      ]
    },
    {
      "cell_type": "code",
      "source": [
        "# 다음은 학습된 모델의 가중치가 저장된 경로\n",
        "checkpoint_path = '/content/model_checkpoint.hdf5'\n",
        "\n",
        "# 데이터셋과 모델을 불러오기\n",
        "test_set = MJDatasetSequence(TEST_DATA_PATH, label_converter, batch_size=BATCH_SIZE, character=TARGET_CHARACTERS)\n",
        "model = build_crnn_model()\n",
        "model.load_weights(checkpoint_path)\n",
        "\n",
        "# crnn 모델은 입력이 복잡한 구조이므로 그대로 사용할 수가 없음\n",
        "# 따라서 crnn 모델의 입력중 'input_image' 부분만 사용한 모델을 새로 만들 예정\n",
        "# inference 전용 모델\n",
        "input_data = model.get_layer('input_image').output\n",
        "y_pred = model.get_layer('output').output\n",
        "model_pred = Model(inputs=input_data, outputs=y_pred)"
      ],
      "metadata": {
        "id": "dZ7vFkRJ7olP"
      },
      "execution_count": 14,
      "outputs": []
    },
    {
      "cell_type": "code",
      "source": [
        "from IPython.display import display\n",
        "\n",
        "# 모델이 inference한 결과를 글자로 바꿔주는 역할\n",
        "def decode_predict_ctc(out, chars = TARGET_CHARACTERS):\n",
        "    results = []\n",
        "    indexes = K.get_value(\n",
        "        K.ctc_decode(\n",
        "            out, input_length=np.ones(out.shape[0]) * out.shape[1],\n",
        "            greedy=False , beam_width=5, top_paths=1\n",
        "        )[0][0]\n",
        "    )[0]\n",
        "    text = \"\"\n",
        "    for index in indexes:\n",
        "        text += chars[index]\n",
        "    results.append(text)\n",
        "    return results\n",
        "\n",
        "# 모델과 데이터셋이 주어지면 inference를 수행\n",
        "# index개 만큼의 데이터를 읽어 모델로 inference를 수행하고\n",
        "# 결과를 디코딩해 출력\n",
        "def check_inference(model, dataset, index = 5):\n",
        "    for i in range(index):\n",
        "        inputs, outputs = dataset[i]\n",
        "        img = dataset[i][0]['input_image'][0:1,:,:,:]\n",
        "        output = model.predict(img)\n",
        "        result = decode_predict_ctc(output, chars=\"-\"+TARGET_CHARACTERS)[0].replace('-','')\n",
        "        print(\"Result: \\t\", result)\n",
        "        display(Image.fromarray(img[0].transpose(1,0,2).astype(np.uint8)))\n",
        "\n",
        "check_inference(model_pred, test_set, index=10)"
      ],
      "metadata": {
        "colab": {
          "base_uri": "https://localhost:8080/",
          "height": 510
        },
        "id": "JTW0ja287oiQ",
        "outputId": "b01e89ae-9526-4c95-a10e-e9cffefad322"
      },
      "execution_count": 15,
      "outputs": [
        {
          "output_type": "stream",
          "name": "stdout",
          "text": [
            "Result: \t A99999999999999999999999\n"
          ]
        },
        {
          "output_type": "display_data",
          "data": {
            "text/plain": [
              "<PIL.Image.Image image mode=RGB size=100x32 at 0x7F576E287D50>"
            ],
            "image/png": "[encoded data removed]"
          },
          "metadata": {}
        },
        {
          "output_type": "stream",
          "name": "stdout",
          "text": [
            "Result: \t AS9999999999999999999999\n"
          ]
        },
        {
          "output_type": "display_data",
          "data": {
            "text/plain": [
              "<PIL.Image.Image image mode=RGB size=100x32 at 0x7F56D68D8290>"
            ],
            "image/png": "[encoded data removed]"
          },
          "metadata": {}
        },
        {
          "output_type": "stream",
          "name": "stdout",
          "text": [
            "Result: \t A99999999999999999999999\n"
          ]
        },
        {
          "output_type": "display_data",
          "data": {
            "text/plain": [
              "<PIL.Image.Image image mode=RGB size=100x32 at 0x7F576E0B6CD0>"
            ],
            "image/png": "[encoded data removed]"
          },
          "metadata": {}
        },
        {
          "output_type": "stream",
          "name": "stdout",
          "text": [
            "Result: \t AS9999999999999999999999\n"
          ]
        },
        {
          "output_type": "display_data",
          "data": {
            "text/plain": [
              "<PIL.Image.Image image mode=RGB size=100x32 at 0x7F56D6096F10>"
            ],
            "image/png": "[encoded data removed]"
          },
          "metadata": {}
        },
        {
          "output_type": "stream",
          "name": "stdout",
          "text": [
            "Result: \t A99999999999999999999999\n"
          ]
        },
        {
          "output_type": "display_data",
          "data": {
            "text/plain": [
              "<PIL.Image.Image image mode=RGB size=100x32 at 0x7F576E2AD650>"
            ],
            "image/png": "[encoded data removed]"
          },
          "metadata": {}
        },
        {
          "output_type": "stream",
          "name": "stdout",
          "text": [
            "Result: \t AS9999999999999999999999\n"
          ]
        },
        {
          "output_type": "display_data",
          "data": {
            "text/plain": [
              "<PIL.Image.Image image mode=RGB size=100x32 at 0x7F56D6048090>"
            ],
            "image/png": "[encoded data removed]"
          },
          "metadata": {}
        },
        {
          "output_type": "stream",
          "name": "stdout",
          "text": [
            "Result: \t A99999999999999999999999\n"
          ]
        },
        {
          "output_type": "display_data",
          "data": {
            "text/plain": [
              "<PIL.Image.Image image mode=RGB size=100x32 at 0x7F56D608B810>"
            ],
            "image/png": "[encoded data removed]"
          },
          "metadata": {}
        },
        {
          "output_type": "stream",
          "name": "stdout",
          "text": [
            "Result: \t AS9999999999999999999999\n"
          ]
        },
        {
          "output_type": "display_data",
          "data": {
            "text/plain": [
              "<PIL.Image.Image image mode=RGB size=100x32 at 0x7F56D600DC10>"
            ],
            "image/png": "[encoded data removed]"
          },
          "metadata": {}
        },
        {
          "output_type": "stream",
          "name": "stdout",
          "text": [
            "Result: \t AS9999999999999999999999\n"
          ]
        },
        {
          "output_type": "display_data",
          "data": {
            "text/plain": [
              "<PIL.Image.Image image mode=RGB size=100x32 at 0x7F56D600DC10>"
            ],
            "image/png": "[encoded data removed]"
          },
          "metadata": {}
        },
        {
          "output_type": "stream",
          "name": "stdout",
          "text": [
            "Result: \t A99999999999999999999999\n"
          ]
        },
        {
          "output_type": "display_data",
          "data": {
            "text/plain": [
              "<PIL.Image.Image image mode=RGB size=100x32 at 0x7F56D60B8750>"
            ],
            "image/png": "[encoded data removed]"
          },
          "metadata": {}
        }
      ]
    },
    {
      "cell_type": "markdown",
      "source": [
        "## Visualization"
      ],
      "metadata": {
        "id": "ShnopqI27z7r"
      }
    },
    {
      "cell_type": "code",
      "source": [
        "! pip install keras_ocr"
      ],
      "metadata": {
        "id": "eRXVJKzHAlyB"
      },
      "execution_count": null,
      "outputs": []
    },
    {
      "cell_type": "code",
      "source": [
        "from keras_ocr.detection import Detector\n",
        "import cv2\n",
        "import matplotlib.pyplot as plt\n",
        "\n",
        "SAMPLE_IMG_PATH = '/content/sample.jpg'\n",
        "\n",
        "detector = Detector()"
      ],
      "metadata": {
        "colab": {
          "base_uri": "https://localhost:8080/"
        },
        "id": "Z2WE63PY7oem",
        "outputId": "e9858b96-db9f-45b5-f280-8490009c80e7"
      },
      "execution_count": 16,
      "outputs": [
        {
          "output_type": "stream",
          "name": "stdout",
          "text": [
            "Looking for /root/.keras-ocr/craft_mlt_25k.h5\n"
          ]
        }
      ]
    },
    {
      "cell_type": "code",
      "source": [
        "def detect_text(img_path):\n",
        "    img = cv2.imread(img_path)\n",
        "    line_img = img.copy()\n",
        "    input_img = img[tf.newaxis,...]\n",
        "    result = detector.detect(input_img)\n",
        "    ocr_result = result[0]\n",
        "    \n",
        "    cropped_imgs = []\n",
        "    for text_result in ocr_result:\n",
        "        for i in range(4):\n",
        "            if i==3:\n",
        "                line_img = cv2.line(line_img,tuple(text_result[3]),tuple(text_result[0]),(0,0,255),10)\n",
        "            else:\n",
        "                line_img = cv2.line(line_img,tuple(text_result[i]),tuple(text_result[i+1]),(0,0,255),10)\n",
        "        \n",
        "        x_min = text_result[:,0].min() - 5\n",
        "        x_max = text_result[:,0].max() + 5\n",
        "        y_min = text_result[:,1].min() - 5\n",
        "        y_max = text_result[:,1].max() + 5\n",
        "        cropped_imgs.append(img[int(y_min):int(y_max),int(x_min):int(x_max)])\n",
        "    \n",
        "    return line_img, cropped_imgs"
      ],
      "metadata": {
        "id": "_OnOwfJB7oYa"
      },
      "execution_count": 17,
      "outputs": []
    },
    {
      "cell_type": "code",
      "source": [
        "img_pil, cropped_img = detect_text(SAMPLE_IMG_PATH)\n",
        "display(img_pil)"
      ],
      "metadata": {
        "colab": {
          "base_uri": "https://localhost:8080/",
          "height": 866
        },
        "id": "klI1U1867n_T",
        "outputId": "bdc60445-f9b2-461d-e112-2f4ab5156f1d"
      },
      "execution_count": 18,
      "outputs": [
        {
          "output_type": "display_data",
          "data": {
            "text/plain": [
              "array([[[209, 214, 213],\n",
              "        [206, 211, 210],\n",
              "        [202, 207, 206],\n",
              "        ...,\n",
              "        [178, 182, 187],\n",
              "        [178, 182, 187],\n",
              "        [181, 185, 190]],\n",
              "\n",
              "       [[184, 189, 188],\n",
              "        [183, 188, 187],\n",
              "        [181, 186, 185],\n",
              "        ...,\n",
              "        [178, 182, 187],\n",
              "        [177, 181, 186],\n",
              "        [178, 182, 187]],\n",
              "\n",
              "       [[171, 176, 175],\n",
              "        [171, 176, 175],\n",
              "        [172, 177, 176],\n",
              "        ...,\n",
              "        [179, 183, 188],\n",
              "        [180, 184, 189],\n",
              "        [183, 187, 192]],\n",
              "\n",
              "       ...,\n",
              "\n",
              "       [[103,  77,  60],\n",
              "        [105,  79,  62],\n",
              "        [106,  80,  63],\n",
              "        ...,\n",
              "        [101,  73,  56],\n",
              "        [102,  74,  57],\n",
              "        [102,  74,  57]],\n",
              "\n",
              "       [[104,  78,  61],\n",
              "        [105,  79,  62],\n",
              "        [107,  81,  64],\n",
              "        ...,\n",
              "        [102,  74,  57],\n",
              "        [103,  75,  58],\n",
              "        [103,  75,  58]],\n",
              "\n",
              "       [[103,  77,  60],\n",
              "        [105,  79,  62],\n",
              "        [107,  81,  64],\n",
              "        ...,\n",
              "        [102,  74,  57],\n",
              "        [103,  75,  58],\n",
              "        [104,  76,  59]]], dtype=uint8)"
            ]
          },
          "metadata": {}
        }
      ]
    },
    {
      "cell_type": "code",
      "source": [
        "def recognize_img(input_img, input_img_size=(100,32)):\n",
        "    img = input_img[:,:,::-1]\n",
        "    img = cv2.resize(img, input_img_size)\n",
        "    result_img = img.copy()\n",
        "    img = img.transpose(1,0,2)\n",
        "    img = img[tf.newaxis,...]\n",
        "    output = model_pred.predict(img)\n",
        "    result = decode_predict_ctc(output, chars=\"-\"+TARGET_CHARACTERS)[0].replace('-','')\n",
        "    print(\"Result: \\t\", result)\n",
        "    display(Image.fromarray(img[0].transpose(1,0,2).astype(np.uint8)))"
      ],
      "metadata": {
        "id": "IuHebW9M669H"
      },
      "execution_count": 19,
      "outputs": []
    },
    {
      "cell_type": "code",
      "source": [
        "for _img in cropped_img:\n",
        "    recognize_img(_img)"
      ],
      "metadata": {
        "colab": {
          "base_uri": "https://localhost:8080/",
          "height": 115
        },
        "id": "FBd_rtxw8Y8t",
        "outputId": "036d98fd-5f41-4006-9edb-e6b3c0dcf701"
      },
      "execution_count": 20,
      "outputs": [
        {
          "output_type": "stream",
          "name": "stdout",
          "text": [
            "Result: \t A99999999999999999999999\n"
          ]
        },
        {
          "output_type": "display_data",
          "data": {
            "text/plain": [
              "<PIL.Image.Image image mode=RGB size=100x32 at 0x7F5508F7D490>"
            ],
            "image/png": "[encoded data removed]"
          },
          "metadata": {}
        },
        {
          "output_type": "stream",
          "name": "stdout",
          "text": [
            "Result: \t A99999999999999999999999\n"
          ]
        },
        {
          "output_type": "display_data",
          "data": {
            "text/plain": [
              "<PIL.Image.Image image mode=RGB size=100x32 at 0x7F5508F7D490>"
            ],
            "image/png": "[encoded data removed]"
          },
          "metadata": {}
        }
      ]
    },
    {
      "cell_type": "markdown",
      "source": [
        "## 프로젝트를 마치며\n",
        "\n",
        "OCR을 이용해 모델이 인식한 텍스트 이미지를 실제 테스트로 출력하여 확인해보는 프로젝트를 진행했다. 샘플을 출력해보니 영어가 아닌 문자도 영어로 인식이 되었다. 영어에 대해서만 학습을 진행한 결과이기 때문이다. 배경에 의해 문자가 다른 알파벳으로 인식이 되는 경우도 있었다. 조금 더 훈련을 시키면 충분히 해결할 수 있을 것 같다."
      ],
      "metadata": {
        "id": "0b43g2QlDjWr"
      }
    },
    {
      "cell_type": "code",
      "source": [
        ""
      ],
      "metadata": {
        "id": "ZT0webUP8Y2n"
      },
      "execution_count": null,
      "outputs": []
    }
  ]
}